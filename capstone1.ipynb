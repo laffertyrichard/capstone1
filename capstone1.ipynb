{
 "cells": [
  {
   "cell_type": "code",
   "execution_count": 2,
   "metadata": {},
   "outputs": [],
   "source": [
    "import pandas as pd\n",
    "import numpy as np\n",
    "import scipy\n",
    "import matplotlib.pyplot as plt\n",
    "import matplotlib.cm\n",
    "import seaborn as sns\n",
    "from scipy.stats import ttest_ind\n",
    "from scipy.stats import expon\n",
    "import descartes\n",
    "import geopandas as gpd\n",
    "from shapely.geometry import Point, Polygon\n",
    "from datetime import datetime, timedelta\n",
    "from dateutil.parser import parse\n",
    "import math\n",
    "from mpl_toolkits.basemap import Basemap\n",
    "from matplotlib.patches import Polygon\n",
    "from matplotlib.collections import PatchCollection\n",
    "from matplotlib.colors import Normalize\n",
    "import os\n",
    "\n",
    "import matplotlib.pyplot as plt\n",
    "\n",
    " \n",
    "%matplotlib inline"
   ]
  },
  {
   "cell_type": "markdown",
   "metadata": {},
   "source": [
    "Read csv and create figure size for notebook"
   ]
  },
  {
   "cell_type": "code",
   "execution_count": 3,
   "metadata": {
    "scrolled": true
   },
   "outputs": [
    {
     "name": "stderr",
     "output_type": "stream",
     "text": [
      "/Users/richardlafferty/anaconda3/lib/python3.7/site-packages/IPython/core/interactiveshell.py:3057: DtypeWarning: Columns (5,9) have mixed types. Specify dtype option on import or set low_memory=False.\n",
      "  interactivity=interactivity, compiler=compiler, result=result)\n"
     ]
    }
   ],
   "source": [
    "plt.rcParams[\"figure.figsize\"] = (20,10)\n",
    "ufo = pd.read_csv('/Users/richardlafferty/Downloads/scrubbed.csv')\n",
    "world = gpd.read_file(gpd.datasets.get_path('naturalearth_lowres'))"
   ]
  },
  {
   "cell_type": "markdown",
   "metadata": {},
   "source": [
    "Rename columns for easier input"
   ]
  },
  {
   "cell_type": "code",
   "execution_count": 4,
   "metadata": {},
   "outputs": [],
   "source": [
    "ufo.rename(columns = {'duration (seconds)':'duration_seconds',\n",
    "                      'duration (hours/min)': 'duration_hrs_min',\n",
    "                      'date posted': 'date_posted'}, inplace = True)"
   ]
  },
  {
   "cell_type": "markdown",
   "metadata": {},
   "source": [
    "Replacing incompatible timestamps"
   ]
  },
  {
   "cell_type": "code",
   "execution_count": 5,
   "metadata": {},
   "outputs": [],
   "source": [
    "ufo['datetime'] = ufo['datetime'].apply(lambda x: x + ':00')"
   ]
  },
  {
   "cell_type": "code",
   "execution_count": 6,
   "metadata": {},
   "outputs": [
    {
     "data": {
      "text/plain": [
       "0        10/10/1949 20:30:00\n",
       "1        10/10/1949 21:00:00\n",
       "2        10/10/1955 17:00:00\n",
       "3        10/10/1956 21:00:00\n",
       "4        10/10/1960 20:00:00\n",
       "5        10/10/1961 19:00:00\n",
       "6        10/10/1965 21:00:00\n",
       "7        10/10/1965 23:45:00\n",
       "8        10/10/1966 20:00:00\n",
       "9        10/10/1966 21:00:00\n",
       "10       10/10/1968 13:00:00\n",
       "11       10/10/1968 19:00:00\n",
       "12       10/10/1970 16:00:00\n",
       "13       10/10/1970 19:00:00\n",
       "14       10/10/1971 21:00:00\n",
       "15       10/10/1972 19:00:00\n",
       "16       10/10/1972 22:30:00\n",
       "17       10/10/1973 19:00:00\n",
       "18       10/10/1973 23:00:00\n",
       "19       10/10/1974 19:30:00\n",
       "20       10/10/1974 21:30:00\n",
       "21       10/10/1974 23:00:00\n",
       "22       10/10/1975 17:00:00\n",
       "23       10/10/1976 20:30:00\n",
       "24       10/10/1976 22:00:00\n",
       "25       10/10/1977 12:00:00\n",
       "26       10/10/1977 22:00:00\n",
       "27       10/10/1978 02:00:00\n",
       "28       10/10/1979 00:00:00\n",
       "29       10/10/1979 22:00:00\n",
       "                ...         \n",
       "80302      9/9/2012 20:00:00\n",
       "80303      9/9/2012 20:10:00\n",
       "80304      9/9/2012 20:30:00\n",
       "80305      9/9/2012 20:30:00\n",
       "80306      9/9/2012 20:52:00\n",
       "80307      9/9/2012 21:00:00\n",
       "80308      9/9/2012 21:00:00\n",
       "80309      9/9/2012 21:00:00\n",
       "80310      9/9/2012 21:00:00\n",
       "80311      9/9/2012 21:55:00\n",
       "80312      9/9/2012 23:00:00\n",
       "80313      9/9/2013 00:15:00\n",
       "80314      9/9/2013 01:50:00\n",
       "80315      9/9/2013 03:00:00\n",
       "80316      9/9/2013 09:51:00\n",
       "80317      9/9/2013 12:34:00\n",
       "80318      9/9/2013 13:10:00\n",
       "80319      9/9/2013 20:15:00\n",
       "80320      9/9/2013 20:20:00\n",
       "80321      9/9/2013 20:21:00\n",
       "80322      9/9/2013 21:00:00\n",
       "80323      9/9/2013 21:00:00\n",
       "80324      9/9/2013 21:00:00\n",
       "80325      9/9/2013 21:00:00\n",
       "80326      9/9/2013 21:00:00\n",
       "80327      9/9/2013 21:15:00\n",
       "80328      9/9/2013 22:00:00\n",
       "80329      9/9/2013 22:00:00\n",
       "80330      9/9/2013 22:20:00\n",
       "80331      9/9/2013 23:00:00\n",
       "Name: datetime, Length: 80332, dtype: object"
      ]
     },
     "execution_count": 6,
     "metadata": {},
     "output_type": "execute_result"
    }
   ],
   "source": [
    "ufo.datetime.replace('24:00:00', '00:00:00')\n"
   ]
  },
  {
   "cell_type": "markdown",
   "metadata": {},
   "source": [
    "Seperating date from time"
   ]
  },
  {
   "cell_type": "code",
   "execution_count": 7,
   "metadata": {},
   "outputs": [],
   "source": [
    "ufo['date'] = ufo['datetime'].map(lambda x: str(x)[:-8])\n",
    "ufo['date'] = ufo['date'].str.strip()\n",
    "ufo['year'] = ufo['date'].map(lambda x: str(x)[-4:])\n",
    "ufo['year'] = ufo['year'].str.split('/')\n",
    "ufo['time'] = ufo['datetime'].map(lambda x: str(x)[-8:])\n"
   ]
  },
  {
   "cell_type": "markdown",
   "metadata": {},
   "source": [
    "Convert datetime by adding date and time seperately"
   ]
  },
  {
   "cell_type": "code",
   "execution_count": 8,
   "metadata": {},
   "outputs": [],
   "source": [
    "ufo['datetime'] = pd.to_datetime(ufo.date) + pd.to_timedelta(ufo.time)"
   ]
  },
  {
   "cell_type": "markdown",
   "metadata": {},
   "source": [
    "Change year column to be the year of datetime which is an integer"
   ]
  },
  {
   "cell_type": "code",
   "execution_count": 9,
   "metadata": {},
   "outputs": [],
   "source": [
    "ufo['year'] = ufo['datetime'].dt.year"
   ]
  },
  {
   "cell_type": "code",
   "execution_count": null,
   "metadata": {},
   "outputs": [],
   "source": [
    "ufo_total = ufo[(ufo['year'] >= 1949) & (ufo['year']) <= 2013]\n"
   ]
  },
  {
   "cell_type": "code",
   "execution_count": 10,
   "metadata": {},
   "outputs": [
    {
     "name": "stdout",
     "output_type": "stream",
     "text": [
      "datetime64[ns]\n"
     ]
    }
   ],
   "source": [
    "print(ufo.datetime.dtypes)"
   ]
  },
  {
   "cell_type": "markdown",
   "metadata": {},
   "source": [
    "change latitude from an object to a float"
   ]
  },
  {
   "cell_type": "code",
   "execution_count": 11,
   "metadata": {},
   "outputs": [],
   "source": [
    "ufo['latitude'] = pd.to_numeric(ufo['latitude'], errors = 'coerce')\n"
   ]
  },
  {
   "cell_type": "markdown",
   "metadata": {},
   "source": [
    "Strip whitespace in longitude header"
   ]
  },
  {
   "cell_type": "code",
   "execution_count": 12,
   "metadata": {},
   "outputs": [],
   "source": [
    "ufo.rename(columns = {'longitude ': 'longitude'}, inplace = True)"
   ]
  },
  {
   "cell_type": "code",
   "execution_count": 13,
   "metadata": {},
   "outputs": [
    {
     "name": "stdout",
     "output_type": "stream",
     "text": [
      "38.12447682461752\n",
      "-86.77288454711757\n",
      "39.41111110000001\n",
      "-87.90361109999999\n"
     ]
    }
   ],
   "source": [
    "print(ufo['latitude'].mean())\n",
    "print(ufo['longitude'].mean())\n",
    "print(ufo['latitude'].median())\n",
    "print(ufo['longitude'].median())\n"
   ]
  },
  {
   "cell_type": "markdown",
   "metadata": {},
   "source": [
    "Changing the duration in seconds to a float"
   ]
  },
  {
   "cell_type": "code",
   "execution_count": 18,
   "metadata": {},
   "outputs": [
    {
     "ename": "NameError",
     "evalue": "name 'duration_seconds' is not defined",
     "output_type": "error",
     "traceback": [
      "\u001b[0;31m---------------------------------------------------------------------------\u001b[0m",
      "\u001b[0;31mNameError\u001b[0m                                 Traceback (most recent call last)",
      "\u001b[0;32m<ipython-input-18-609f85b06da8>\u001b[0m in \u001b[0;36m<module>\u001b[0;34m\u001b[0m\n\u001b[1;32m      1\u001b[0m \u001b[0mufo\u001b[0m\u001b[0;34m[\u001b[0m\u001b[0;34m'duration_seconds'\u001b[0m\u001b[0;34m]\u001b[0m \u001b[0;34m=\u001b[0m \u001b[0mpd\u001b[0m\u001b[0;34m.\u001b[0m\u001b[0mto_numeric\u001b[0m\u001b[0;34m(\u001b[0m\u001b[0mufo\u001b[0m\u001b[0;34m.\u001b[0m\u001b[0mduration_seconds\u001b[0m\u001b[0;34m,\u001b[0m \u001b[0merrors\u001b[0m \u001b[0;34m=\u001b[0m \u001b[0;34m'coerce'\u001b[0m\u001b[0;34m)\u001b[0m\u001b[0;34m\u001b[0m\u001b[0;34m\u001b[0m\u001b[0m\n\u001b[0;32m----> 2\u001b[0;31m \u001b[0mprint\u001b[0m\u001b[0;34m(\u001b[0m\u001b[0mufo\u001b[0m\u001b[0;34m[\u001b[0m\u001b[0mduration_seconds\u001b[0m\u001b[0;34m]\u001b[0m\u001b[0;34m.\u001b[0m\u001b[0mmean\u001b[0m\u001b[0;34m(\u001b[0m\u001b[0;34m)\u001b[0m\u001b[0;34m)\u001b[0m\u001b[0;34m\u001b[0m\u001b[0;34m\u001b[0m\u001b[0m\n\u001b[0m",
      "\u001b[0;31mNameError\u001b[0m: name 'duration_seconds' is not defined"
     ]
    }
   ],
   "source": [
    "ufo['duration_seconds'] = pd.to_numeric(ufo.duration_seconds, errors = 'coerce')\n",
    "print(ufo[duration_seconds].mean())"
   ]
  },
  {
   "cell_type": "code",
   "execution_count": 15,
   "metadata": {},
   "outputs": [],
   "source": [
    "for row_num, row in enumerate(ufo, start=1):\n",
    "    try:\n",
    "        pd.to_datetime(ufo.datetime, infer_datetime_format = True)\n",
    "    except ValueError as err:\n",
    "        print(\"Invalid data, row is skipped\")\n",
    "        print('Row: {}, Reason : {}'.format(row_num, err))\n",
    "       \n",
    "   "
   ]
  },
  {
   "cell_type": "code",
   "execution_count": 16,
   "metadata": {},
   "outputs": [],
   "source": [
    "for row_num, row in enumerate(ufo, start=1):\n",
    "    try:\n",
    "        pd.to_numeric(ufo.duration_seconds)\n",
    "    except ValueError as err:\n",
    "        print(\"Invalid data, row is skipped\")\n",
    "        print('Row: {}, Reason : {}'.format(row_num, err))\n",
    "    "
   ]
  },
  {
   "cell_type": "code",
   "execution_count": 17,
   "metadata": {},
   "outputs": [
    {
     "name": "stdout",
     "output_type": "stream",
     "text": [
      "datetime            datetime64[ns]\n",
      "city                        object\n",
      "state                       object\n",
      "country                     object\n",
      "shape                       object\n",
      "duration_seconds           float64\n",
      "duration_hrs_min            object\n",
      "comments                    object\n",
      "date_posted                 object\n",
      "latitude                   float64\n",
      "longitude                  float64\n",
      "date                        object\n",
      "year                         int64\n",
      "time                        object\n",
      "dtype: object\n"
     ]
    }
   ],
   "source": [
    "print(ufo.dtypes)"
   ]
  },
  {
   "cell_type": "code",
   "execution_count": 19,
   "metadata": {},
   "outputs": [],
   "source": [
    "world = gpd.read_file(gpd.datasets.get_path('naturalearth_lowres'))\n",
    "\n",
    "world = world[world.name != 'Antarctica']\n",
    "\n",
    "long_lat_points = [Point(xy) for xy in zip(ufo['longitude'], ufo['latitude'])]\n",
    "\n",
    "crs = {\"init\": \"epsg:4326\"}\n"
   ]
  },
  {
   "cell_type": "code",
   "execution_count": 20,
   "metadata": {},
   "outputs": [
    {
     "data": {
      "text/plain": [
       "[<shapely.geometry.point.Point at 0x1a2724c550>,\n",
       " <shapely.geometry.point.Point at 0x1a2724c128>,\n",
       " <shapely.geometry.point.Point at 0x1a2724cf60>]"
      ]
     },
     "execution_count": 20,
     "metadata": {},
     "output_type": "execute_result"
    }
   ],
   "source": [
    "long_lat_points[:3]"
   ]
  },
  {
   "cell_type": "markdown",
   "metadata": {},
   "source": [
    "States with most UFOs seen"
   ]
  },
  {
   "cell_type": "code",
   "execution_count": 21,
   "metadata": {},
   "outputs": [
    {
     "name": "stdout",
     "output_type": "stream",
     "text": [
      "[]\n"
     ]
    }
   ],
   "source": [
    "states = {\n",
    "        'AK': 'Alaska',\n",
    "        'AL': 'Alabama',\n",
    "        'AR': 'Arkansas',\n",
    "        'AS': 'American Samoa',\n",
    "        'AZ': 'Arizona',\n",
    "        'CA': 'California',\n",
    "        'CO': 'Colorado',\n",
    "        'CT': 'Connecticut',\n",
    "        'DC': 'District of Columbia',\n",
    "        'DE': 'Delaware',\n",
    "        'FL': 'Florida',\n",
    "        'GA': 'Georgia',\n",
    "        'GU': 'Guam',\n",
    "        'HI': 'Hawaii',\n",
    "        'IA': 'Iowa',\n",
    "        'ID': 'Idaho',\n",
    "        'IL': 'Illinois',\n",
    "        'IN': 'Indiana',\n",
    "        'KS': 'Kansas',\n",
    "        'KY': 'Kentucky',\n",
    "        'LA': 'Louisiana',\n",
    "        'MA': 'Massachusetts',\n",
    "        'MD': 'Maryland',\n",
    "        'ME': 'Maine',\n",
    "        'MI': 'Michigan',\n",
    "        'MN': 'Minnesota',\n",
    "        'MO': 'Missouri',\n",
    "        'MP': 'Northern Mariana Islands',\n",
    "        'MS': 'Mississippi',\n",
    "        'MT': 'Montana',\n",
    "        'NA': 'National',\n",
    "        'NC': 'North Carolina',\n",
    "        'ND': 'North Dakota',\n",
    "        'NE': 'Nebraska',\n",
    "        'NH': 'New Hampshire',\n",
    "        'NJ': 'New Jersey',\n",
    "        'NM': 'New Mexico',\n",
    "        'NV': 'Nevada',\n",
    "        'NY': 'New York',\n",
    "        'OH': 'Ohio',\n",
    "        'OK': 'Oklahoma',\n",
    "        'OR': 'Oregon',\n",
    "        'PA': 'Pennsylvania',\n",
    "        'PR': 'Puerto Rico',\n",
    "        'RI': 'Rhode Island',\n",
    "        'SC': 'South Carolina',\n",
    "        'SD': 'South Dakota',\n",
    "        'TN': 'Tennessee',\n",
    "        'TX': 'Texas',\n",
    "        'UT': 'Utah',\n",
    "        'VA': 'Virginia',\n",
    "        'VI': 'Virgin Islands',\n",
    "        'VT': 'Vermont',\n",
    "        'WA': 'Washington',\n",
    "        'WI': 'Wisconsin',\n",
    "        'WV': 'West Virginia',\n",
    "        'WY': 'Wyoming'\n",
    "}\n",
    "def full_statename(state, state_dict):\n",
    "    states = []\n",
    "    for i in state:\n",
    "        for key, value in state_dict.items():\n",
    "            if key == i:\n",
    "                try:\n",
    "                    states += value\n",
    "                except ValueError:\n",
    "                    pass\n",
    "    return states\n",
    "print(full_statename(ufo['state'], states))\n"
   ]
  },
  {
   "cell_type": "code",
   "execution_count": 25,
   "metadata": {},
   "outputs": [
    {
     "name": "stdout",
     "output_type": "stream",
     "text": [
      "       count\n",
      "state       \n",
      "AB       333\n",
      "AK       354\n",
      "AL       691\n",
      "AR       666\n",
      "AZ      2689\n",
      "BC       788\n",
      "CA      9655\n",
      "CO      1505\n",
      "CT       968\n",
      "DC        99\n",
      "DE       183\n",
      "FL      4200\n",
      "GA      1347\n",
      "HI       353\n",
      "IA       707\n",
      "ID       554\n",
      "IL      2645\n",
      "IN      1386\n",
      "KS       653\n",
      "KY       914\n",
      "LA       598\n",
      "MA      1358\n",
      "MB       155\n",
      "MD       911\n",
      "ME       633\n",
      "MI      2071\n",
      "MN      1081\n",
      "MO      1576\n",
      "MS       415\n",
      "MT       510\n",
      "...      ...\n",
      "NM       815\n",
      "NS       143\n",
      "NT        20\n",
      "NV       905\n",
      "NY      3219\n",
      "OH      2425\n",
      "OK       766\n",
      "ON      1584\n",
      "OR      1845\n",
      "PA      2582\n",
      "PE        17\n",
      "PQ        90\n",
      "PR        33\n",
      "QC       178\n",
      "RI       290\n",
      "SA        30\n",
      "SC      1076\n",
      "SD       196\n",
      "SK        98\n",
      "TN      1193\n",
      "TX      3677\n",
      "UT       743\n",
      "VA      1393\n",
      "VT       307\n",
      "WA      4268\n",
      "WI      1333\n",
      "WV       486\n",
      "WY       205\n",
      "YK         7\n",
      "YT        13\n",
      "\n",
      "[67 rows x 1 columns]\n"
     ]
    }
   ],
   "source": [
    "ufo['state'] = ufo.state.str.upper()\n",
    "state_seen = ufo.groupby('state').state.agg(['count'])\n",
    "#ufo['state_name'] = ufo['state'].apply(lambda x: states[x])\n",
    "print(state_seen)\n"
   ]
  },
  {
   "cell_type": "code",
   "execution_count": 26,
   "metadata": {},
   "outputs": [
    {
     "data": {
      "image/png": "[encoded data removed]",
      "text/plain": [
       "<Figure size 1008x576 with 1 Axes>"
      ]
     },
     "metadata": {
      "needs_background": "light"
     },
     "output_type": "display_data"
    }
   ],
   "source": [
    "ax = state_seen.sort_values(by = 'count', ascending = False).plot(kind = 'bar',\n",
    "                                                                  figsize = (14, 8),\n",
    "                                                                  title = 'UFOs Seen by State', fontsize = 18)\n",
    "ax.set_xlabel('State', fontsize = 14)\n",
    "ax.set_ylabel('Number of Sightings', fontsize = 14)\n",
    "ax.tick_params(axis = 'x', labelsize = 12)"
   ]
  },
  {
   "cell_type": "code",
   "execution_count": 27,
   "metadata": {},
   "outputs": [
    {
     "name": "stdout",
     "output_type": "stream",
     "text": [
      "CA    9655\n",
      "WA    4268\n",
      "FL    4200\n",
      "TX    3677\n",
      "NY    3219\n",
      "Name: state, dtype: int64\n",
      "CA    0.129536\n",
      "WA    0.057262\n",
      "FL    0.056349\n",
      "TX    0.049333\n",
      "NY    0.043188\n",
      "Name: state, dtype: float64\n"
     ]
    },
    {
     "data": {
      "image/png": "[encoded data removed]",
      "text/plain": [
       "<Figure size 1440x720 with 1 Axes>"
      ]
     },
     "metadata": {
      "needs_background": "light"
     },
     "output_type": "display_data"
    }
   ],
   "source": [
    "state_count = ufo.state.value_counts()\n",
    "state_count_pct = ufo.state.value_counts(normalize = True)\n",
    "print(state_count.head())\n",
    "print(state_count_pct.head())\n",
    "west_coast = ufo.loc[(ufo['state'] == 'CA') & (ufo['state'] == 'WA') & (ufo['state'] == 'OR')]\n",
    "rest_country = ufo.loc[(ufo['state'] != 'NY') & (ufo['state'] != 'WA') & (ufo['state'] != 'OR')]\n",
    "\n",
    "ax = sns.barplot(west_coast)"
   ]
  },
  {
   "cell_type": "markdown",
   "metadata": {},
   "source": [
    "Plot a histogram of number of ufos seen by year"
   ]
  },
  {
   "cell_type": "code",
   "execution_count": 28,
   "metadata": {},
   "outputs": [
    {
     "data": {
      "image/png": "[encoded data removed]",
      "text/plain": [
       "<Figure size 1440x720 with 1 Axes>"
      ]
     },
     "metadata": {
      "needs_background": "light"
     },
     "output_type": "display_data"
    }
   ],
   "source": [
    "fig, ax = plt.subplots()\n",
    "ax.hist(ufo['year'], bins = 50, color = 'green', width = 2)\n",
    "ax.set_xlabel('Year of Sighting', fontsize = 16)\n",
    "ax.set_ylabel('Number of Sighting', fontsize = 16)\n",
    "ax.set_title('UFO Sightings between 1949 and 2013', fontsize = 20)\n",
    "ax.set_xlim(1940, 2015)\n",
    "data_expon = expon.rvs(scale=1,loc=0,size=1000)"
   ]
  },
  {
   "cell_type": "code",
   "execution_count": 29,
   "metadata": {},
   "outputs": [
    {
     "data": {
      "image/png": "[encoded data removed]",
      "text/plain": [
       "<Figure size 1440x720 with 1 Axes>"
      ]
     },
     "metadata": {
      "needs_background": "light"
     },
     "output_type": "display_data"
    }
   ],
   "source": [
    "plt.rcParams[\"figure.figsize\"] = (20,10)\n",
    "ax = sns.distplot(ufo['year'])\n",
    "ax.set_xlabel('Year of Sighting', fontsize = 16)\n",
    "ax.set_ylabel('Number of Sighting', fontsize = 16)\n",
    "ax.set_title('UFO Sightings between 1949 and 2013', fontsize = 20)\n",
    "ax.set_xlim(1940, 2013)\n",
    "\n",
    "plt.show()"
   ]
  },
  {
   "cell_type": "code",
   "execution_count": 32,
   "metadata": {},
   "outputs": [
    {
     "name": "stdout",
     "output_type": "stream",
     "text": [
      "10.426782737269317\n",
      "2003.8501095453867\n",
      "2006.0\n",
      "count    80332.000000\n",
      "mean      2003.850110\n",
      "std         10.426848\n",
      "min       1906.000000\n",
      "25%       2001.000000\n",
      "50%       2006.000000\n",
      "75%       2011.000000\n",
      "max       2014.000000\n",
      "Name: year, dtype: float64\n"
     ]
    }
   ],
   "source": [
    "std_year = np.std(ufo['year'])\n",
    "describe_year = ufo['year'].describe()\n",
    "mean_year = np.mean(ufo['year'])\n",
    "median_year = np.median(ufo['year'])\n",
    "print(std_year)\n",
    "print(mean_year)\n",
    "print(median_year)\n",
    "print(describe_year)"
   ]
  },
  {
   "cell_type": "markdown",
   "metadata": {},
   "source": [
    "New dataframe with only year, shape, and state seen"
   ]
  },
  {
   "cell_type": "code",
   "execution_count": null,
   "metadata": {},
   "outputs": [],
   "source": [
    "ufo['before_2000'] = ufo.loc['year' < 2000]"
   ]
  },
  {
   "cell_type": "code",
   "execution_count": null,
   "metadata": {},
   "outputs": [],
   "source": [
    "year_by_shape = ufo.groupby(['year', 'state', 'shape']).size().unstack().reset_index()\n",
    "\n",
    "print(year_by_shape.head())"
   ]
  },
  {
   "cell_type": "code",
   "execution_count": null,
   "metadata": {},
   "outputs": [],
   "source": [
    "ax = ufo.boxplot(column = ['year'], vert = False, showmeans = True)\n",
    "\n",
    "print(ufo['year'].describe())\n"
   ]
  },
  {
   "cell_type": "markdown",
   "metadata": {},
   "source": [
    "Finding different shapes seen and their counts"
   ]
  },
  {
   "cell_type": "code",
   "execution_count": null,
   "metadata": {},
   "outputs": [],
   "source": [
    "shapes_seen = ufo.groupby('shape').shape.agg(['count'])"
   ]
  },
  {
   "cell_type": "code",
   "execution_count": null,
   "metadata": {},
   "outputs": [],
   "source": [
    "print(shapes_seen)\n",
    "print(shapes_seen.dtypes)\n"
   ]
  },
  {
   "cell_type": "markdown",
   "metadata": {},
   "source": [
    "Barplot of shapes seen in descending order"
   ]
  },
  {
   "cell_type": "code",
   "execution_count": null,
   "metadata": {},
   "outputs": [],
   "source": [
    "ax = shapes_seen.sort_values(by = 'count', ascending = False).plot(kind = 'bar',\n",
    "                                                                  figsize = (14, 8),\n",
    "                                                                  title = 'UFOs Seen by Shape', fontsize = 18)\n",
    "ax.set_xlabel('Shape of UFO', fontsize = 14)\n",
    "ax.set_ylabel('Number of Sightings', fontsize = 14)\n",
    "\n",
    "\n"
   ]
  },
  {
   "cell_type": "markdown",
   "metadata": {},
   "source": [
    "Sighting duration in seconds"
   ]
  },
  {
   "cell_type": "code",
   "execution_count": null,
   "metadata": {},
   "outputs": [],
   "source": [
    "#top ten shapes\n",
    "light = ufo.loc[ufo['shape'] == 'light']\n",
    "triangle = ufo.loc[ufo['shape'] == 'triangle']\n",
    "circle = ufo.loc[ufo['shape'] == 'circle']\n",
    "formation = ufo.loc[ufo['shape'] == 'formation']\n",
    "oval = ufo.loc[ufo['shape'] == 'oval']\n",
    "disk = ufo.loc[ufo['shape'] == 'disk']\n",
    "sphere = ufo.loc[ufo['shape'] == 'sphere']\n",
    "unknown = ufo.loc[ufo['shape'] == 'unknown']\n",
    "other = ufo.loc[ufo['shape'] == 'other']\n",
    "fireball = ufo.loc[ufo['shape'] == 'fireball']\n"
   ]
  },
  {
   "cell_type": "code",
   "execution_count": null,
   "metadata": {},
   "outputs": [],
   "source": [
    "m = Basemap(projection = 'mill',\n",
    "           llcrnrlat = 22,\n",
    "           urcrnrlat = 55,\n",
    "           llcrnrlon = -128,\n",
    "           urcrnrlon = -60,\n",
    "           resolution = 'c')\n",
    "plt.title('UFO Sightings from 1949-2013', fontsize = 22)\n",
    "m.drawcoastlines()\n",
    "m.readshapefile('/Users/richardlafferty/Downloads/tl_2017_us_state/tl_2017_us_state', 'areas')\n",
    "m.scatter(light.longitude.to_list(), light.latitude.to_list(), latlon = True, s = 10, c = 'magenta', alpha = .5)\n",
    "m.scatter(triangle.longitude.to_list(), triangle.latitude.to_list(), latlon = True, s = 10, c = 'coral', marker = '^', alpha = .5)\n",
    "m.scatter(circle.longitude.to_list(), circle.latitude.to_list(), latlon = True, s = 10, c = 'grey', marker = 'o', alpha = .5)\n",
    "m.scatter(formation.longitude.to_list(), formation.latitude.to_list(), latlon = True, s = 10, c = 'pink', marker = 'D', alpha = .5)\n",
    "m.scatter(oval.longitude.to_list(), oval.latitude.to_list(), latlon = True, s = 10, c = 'black', marker = 'd', alpha = .5)\n",
    "m.scatter(disk.longitude.to_list(), disk.latitude.to_list(), latlon = True, s = 10, c = 'purple', marker = 'h', alpha = .5)\n",
    "m.scatter(sphere.longitude.to_list(), sphere.latitude.to_list(), latlon = True, s = 10, c = 'yellow', marker = '8', alpha = .5)\n",
    "m.scatter(unknown.longitude.to_list(), unknown.latitude.to_list(), latlon = True, s = 10, c = 'green', marker = '*', alpha = .5)\n",
    "m.scatter(other.longitude.to_list(), other.latitude.to_list(), latlon = True, s = 10, c = 'blue', marker = 'X', alpha = .5)\n",
    "m.scatter(fireball.longitude.to_list(), fireball.latitude.to_list(), latlon = True, s = 10, c = 'red', marker = 'p', alpha = .5)"
   ]
  },
  {
   "cell_type": "code",
   "execution_count": null,
   "metadata": {},
   "outputs": [],
   "source": [
    "m = Basemap(projection = 'mill',\n",
    "           llcrnrlat = 22,\n",
    "           urcrnrlat = 55,\n",
    "           llcrnrlon = -128,\n",
    "           urcrnrlon = -60,\n",
    "           resolution = 'c')\n",
    "plt.title('UFO Sightings from 1949-2013', fontsize = 22)\n",
    "m.drawparallels(np.arange(-90, 90, 10), labels = [True, False, False, False])\n",
    "m.drawmeridians(np.arange(-180, 180, 30), labels = [0, 0, 0, 1])\n",
    "m.drawcoastlines()\n",
    "m.readshapefile('/Users/richardlafferty/Downloads/tl_2017_us_state/tl_2017_us_state', 'areas')\n",
    "m.scatter(light.longitude.to_list(), light.latitude.to_list(), latlon = True, s = 10, c = 'magenta', alpha = .5)\n",
    "m.scatter(triangle.longitude.to_list(), triangle.latitude.to_list(), latlon = True, s = 10, c = 'coral', marker = '^', alpha = .5)\n",
    "m.scatter(circle.longitude.to_list(), circle.latitude.to_list(), latlon = True, s = 10, c = 'grey', marker = 'o', alpha = .5)\n",
    "m.scatter(formation.longitude.to_list(), formation.latitude.to_list(), latlon = True, s = 10, c = 'pink', marker = 'D', alpha = .5)\n",
    "m.scatter(oval.longitude.to_list(), oval.latitude.to_list(), latlon = True, s = 10, c = 'black', marker = 'd', alpha = .5)\n",
    "m.scatter(disk.longitude.to_list(), disk.latitude.to_list(), latlon = True, s = 10, c = 'purple', marker = 'h', alpha = .5)\n",
    "m.scatter(sphere.longitude.to_list(), sphere.latitude.to_list(), latlon = True, s = 10, c = 'yellow', marker = '8', alpha = .5)\n",
    "m.scatter(unknown.longitude.to_list(), unknown.latitude.to_list(), latlon = True, s = 10, c = 'green', marker = '*', alpha = .5)\n",
    "m.scatter(other.longitude.to_list(), other.latitude.to_list(), latlon = True, s = 10, c = 'blue', marker = 'X', alpha = .5)\n",
    "m.scatter(fireball.longitude.to_list(), fireball.latitude.to_list(), latlon = True, s = 10, c = 'red', marker = 'p', alpha = .5)"
   ]
  },
  {
   "cell_type": "code",
   "execution_count": null,
   "metadata": {},
   "outputs": [],
   "source": [
    "m = Basemap(projection = 'mill',\n",
    "           llcrnrlat = 32,\n",
    "           urcrnrlat = 43,\n",
    "           llcrnrlon = -130,\n",
    "           urcrnrlon = -114,\n",
    "           resolution = 'c')\n",
    "plt.title('UFO Sightings from 1949-2013', fontsize = 22)\n",
    "m.drawcoastlines()\n",
    "m.readshapefile('/Users/richardlafferty/Downloads/tl_2017_us_state/tl_2017_us_state', 'areas')\n",
    "#m.scatter(light.longitude.to_list(), light.latitude.to_list(), latlon = True, s = 2, c = 'magenta', alpha = .5)\n",
    "#m.scatter(triangle.longitude.to_list(), triangle.latitude.to_list(), latlon = True, s = 2, c = 'coral', marker = '^', alpha = .5)\n",
    "#m.scatter(circle.longitude.to_list(), circle.latitude.to_list(), latlon = True, s = 2, c = 'grey', marker = 'o', alpha = .5)\n",
    "#m.scatter(formation.longitude.to_list(), formation.latitude.to_list(), latlon = True, s = 2, c = 'pink', marker = 'D', alpha = .5)\n",
    "#m.scatter(oval.longitude.to_list(), oval.latitude.to_list(), latlon = True, s = 2, c = 'black', marker = 'd', alpha = .5)\n",
    "#m.scatter(disk.longitude.to_list(), disk.latitude.to_list(), latlon = True, s = 2, c = 'purple', marker = 'h', alpha = .5)\n",
    "#m.scatter(sphere.longitude.to_list(), sphere.latitude.to_list(), latlon = True, s = 2, c = 'yellow', marker = '8', alpha = .5)\n",
    "#m.scatter(unknown.longitude.to_list(), unknown.latitude.to_list(), latlon = True, s = 2, c = 'green', marker = '*', alpha = .5)\n",
    "#m.scatter(other.longitude.to_list(), other.latitude.to_list(), latlon = True, s = 2, c = 'blue', marker = 'X', alpha = .5)\n",
    "#m.scatter(fireball.longitude.to_list(), fireball.latitude.to_list(), latlon = True, s = 2, c = 'red', marker = 'p', alpha = .5)\n",
    "m.scatter(ufo.longitude.to_list(), ufo.latitude.to_list(), latlon = True, s = 1, c = 'red')\n",
    "m.scatter([-121.47, -122.45, -118.33, -117.15], [38.56, 37.75, 34.08, 32.81], latlon = True, s = 50, alpha = 1, label = 'San Francisco', c = 'black')\n",
    "\n",
    "city_lons = [-121.47, -122.45, -118.33, -117.15]\n",
    "city_lats = [38.56, 37.75, 34.08, 32.81]"
   ]
  },
  {
   "cell_type": "code",
   "execution_count": null,
   "metadata": {},
   "outputs": [],
   "source": [
    "median_sighting = Point(38.1244768246185, -86.7728845471172)"
   ]
  },
  {
   "cell_type": "code",
   "execution_count": null,
   "metadata": {},
   "outputs": [],
   "source": []
  },
  {
   "cell_type": "code",
   "execution_count": null,
   "metadata": {},
   "outputs": [],
   "source": [
    "m = Basemap(projection='robin',lon_0=0,resolution='c')\n",
    "m.drawcoastlines()\n",
    "m.drawparallels(np.arange(-90, 90, 10), labels = [True, False, False, False])\n",
    "m.drawmeridians(np.arange(-180, 180, 30), labels = [0, 0, 0, 1])\n",
    "\n",
    "m.scatter(ufo.longitude.to_list(), ufo.latitude.to_list(), latlon = True, s = 1, c = 'red')\n",
    "plt.title('UFO Sightings Worldwide from 1949-2013', fontsize = 22, color = 'green')\n",
    "plt.show()"
   ]
  },
  {
   "cell_type": "code",
   "execution_count": null,
   "metadata": {},
   "outputs": [],
   "source": [
    "m = Basemap(projection = 'mill',\n",
    "           llcrnrlat = 22,\n",
    "           urcrnrlat = 55,\n",
    "           llcrnrlon = -128,\n",
    "           urcrnrlon = -60,\n",
    "           resolution = 'c')\n",
    "m.drawcoastlines()\n",
    "m.readshapefile('/Users/richardlafferty/Downloads/tl_2017_us_state/tl_2017_us_state', 'areas')\n",
    "m.scatter(ufo.longitude.to_list(), ufo.latitude.to_list(), latlon = True, s = 2, c = 'red')\n"
   ]
  },
  {
   "cell_type": "code",
   "execution_count": null,
   "metadata": {},
   "outputs": [],
   "source": [
    "#Making two new data frames\n",
    "ufo['year'] = ufo['year'].astype(int)\n",
    "ufo_b4_1993 = ufo[ufo['year'] < 1993]\n",
    "ufo_after_1993 = ufo[ufo['year'] >= 1993]"
   ]
  },
  {
   "cell_type": "code",
   "execution_count": null,
   "metadata": {},
   "outputs": [],
   "source": [
    "ax = plt.subplot()\n",
    "ax.hist(ufo_b4_1993['year'], bins = 50, color = 'green', width = 1.5)\n",
    "ax.set_xlabel('Year of Sighting', fontsize = 16)\n",
    "ax.set_ylabel('Number of Sighting', fontsize = 16)\n",
    "ax.set_title('UFO sightings between 1949 and 2013', fontsize = 20)\n",
    "\n",
    "ax.set_xlim(1940, 1996)\n"
   ]
  },
  {
   "cell_type": "code",
   "execution_count": null,
   "metadata": {},
   "outputs": [],
   "source": [
    "ax = plt.subplot()\n",
    "ax.hist(ufo_after_1993['year'], bins = 20, color = 'green', width = 1)\n",
    "ax.set_xlabel('Year of Sighting', fontsize = 16)\n",
    "ax.set_ylabel('Number of Sighting', fontsize = 16)\n",
    "ax.set_title('UFO sightings between 1949 and 2013', fontsize = 20)\n",
    "\n",
    "ax.set_xlim(1992, 2014)"
   ]
  },
  {
   "cell_type": "code",
   "execution_count": null,
   "metadata": {},
   "outputs": [],
   "source": [
    "ttest_ind(ufo_b4_1993['year'], ufo_after_1993['year'], equal_var = False)"
   ]
  },
  {
   "cell_type": "code",
   "execution_count": null,
   "metadata": {},
   "outputs": [],
   "source": []
  }
 ],
 "metadata": {
  "kernelspec": {
   "display_name": "Python 3",
   "language": "python",
   "name": "python3"
  },
  "language_info": {
   "codemirror_mode": {
    "name": "ipython",
    "version": 3
   },
   "file_extension": ".py",
   "mimetype": "text/x-python",
   "name": "python",
   "nbconvert_exporter": "python",
   "pygments_lexer": "ipython3",
   "version": "3.7.3"
  }
 },
 "nbformat": 4,
 "nbformat_minor": 2
}
